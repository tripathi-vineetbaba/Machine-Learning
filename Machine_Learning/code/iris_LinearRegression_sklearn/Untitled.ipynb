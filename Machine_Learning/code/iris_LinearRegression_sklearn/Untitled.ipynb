{
 "cells": [
  {
   "cell_type": "code",
   "execution_count": 1,
   "metadata": {},
   "outputs": [
    {
     "name": "stdout",
     "output_type": "stream",
     "text": [
      "*****************************************************************************************************\n",
      "\n",
      "\tEnter file name with file location : ../../../../New_folder/testfile.csv\n",
      "\n",
      "\tAlgorithm that is applied : \n",
      "\t\tSVC(C=1.0, cache_size=200, class_weight=None, coef0=0.0,\n",
      "  decision_function_shape='ovr', degree=3, gamma='auto', kernel='rbf',\n",
      "  max_iter=-1, probability=False, random_state=None, shrinking=True,\n",
      "  tol=0.001, verbose=False)\n",
      "\n",
      "***********************************************PREDICTION AND ACTUAL VALUE************************************************\n",
      "\n",
      "Predicted Class : Iris-versicolor\t\t Actual Class : Iris-versicolor\n",
      "Predicted Class : Iris-versicolor\t\t Actual Class : Iris-versicolor\n",
      "Predicted Class : Iris-versicolor\t\t Actual Class : Iris-versicolor\n",
      "Predicted Class : Iris-setosa\t\t\t Actual Class : Iris-setosa\n",
      "Predicted Class : Iris-setosa\t\t\t Actual Class : Iris-setosa\n",
      "\n",
      "*************************************************ACCURACY****************************************\n",
      "Overall Accuracy : 0.9333333333333333\n"
     ]
    }
   ],
   "source": [
    "import sys,time\n",
    "sys.path.insert(0,'../../../Machine_Learning/')\n",
    "from functions.sklearn_algorithms.sklearn_algorithms import Sklearn_Algorithm\n",
    "from data.iris.iris import IrisData as iris\n",
    "from sklearn import model_selection\n",
    "algos=Sklearn_Algorithm()\n",
    "pd=algos.pd()\n",
    "np=algos.np()\n",
    "url=iris.urls()\n",
    "column=iris.columns()\n",
    "df=pd.read_csv(url,sep=',',names=column)\n",
    "df=df.values\n",
    "X=df[:,:-1]\n",
    "Y=df[:,-1]\n",
    "print('*****************************************************************************************************')\n",
    "#b'../../../../New_folder/testfile.csv'\n",
    "#all_result=algos.get_accurqacy_all_algorithm(X,Y)\n",
    "#print(\"\\n\\tAccuracy of algorithm on given IRIS data is as below :\\n{0}\".format(all_result))\n",
    "#fit_algorithm=algos.get_fit_algorithm(X,Y)\n",
    "#print(\"\\n\\tAlgorithm that suites most with this type of data :\\n{0}\".format(fit_algorithm))\n",
    "\n",
    "testfile=input(\"\\n\\tEnter file name with file location : \")\n",
    "read_file=pd.read_csv(testfile,sep=',',names=column)\n",
    "read_file=read_file.values\n",
    "testY=read_file[:,-1]\n",
    "testX=read_file[:,:-1]\n",
    "#test-file is at ../../../../New_folder/testfile.csv\n",
    "algorithm,accuracy=algos.apply_fit_algorithm(X,Y)\n",
    "print(\"\\n\\tAlgorithm that is applied : \\n\\t\\t{0}\".format(algorithm))\n",
    "trainX,test_X,trainY,test_Y=model_selection.train_test_split(X,Y,test_size=0.2,random_state=np.random.randint(len(X)))\n",
    "algorithm.fit(trainX,trainY)\n",
    "prediction=algorithm.predict(testX)\n",
    "print('\\n***********************************************PREDICTION AND ACTUAL VALUE************************************************\\n')\n",
    "for x in range(len(prediction)):\n",
    "    if testY[x]=='Iris-setosa':\n",
    "        print(\"Predicted Class : {0}\\t\\t\\t {2} : {1}\".format(prediction[x],testY[x],'Actual Class'))\n",
    "    else:\n",
    "        print(\"Predicted Class : {0}\\t\\t {2} : {1}\".format(prediction[x],testY[x],'Actual Class'))\n",
    "print(\"\\n*************************************************ACCURACY****************************************\\nOverall Accuracy : {0}\".format(accuracy))\n",
    "\n",
    "time.sleep(30)"
   ]
  },
  {
   "cell_type": "code",
   "execution_count": null,
   "metadata": {},
   "outputs": [],
   "source": []
  }
 ],
 "metadata": {
  "kernelspec": {
   "display_name": "Python 3",
   "language": "python",
   "name": "python3"
  },
  "language_info": {
   "codemirror_mode": {
    "name": "ipython",
    "version": 3
   },
   "file_extension": ".py",
   "mimetype": "text/x-python",
   "name": "python",
   "nbconvert_exporter": "python",
   "pygments_lexer": "ipython3",
   "version": "3.6.5"
  }
 },
 "nbformat": 4,
 "nbformat_minor": 2
}
